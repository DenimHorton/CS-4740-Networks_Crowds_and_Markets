{
  "cells": [
    {
      "cell_type": "code",
      "execution_count": 1,
      "metadata": {
        "id": "dJKd7WHYtKoE"
      },
      "outputs": [],
      "source": [
        "import numpy as np\n",
        "import matplotlib.pyplot as plt\n",
        "import numpy.linalg as linalg\n",
        "import numpy.random as rnd\n",
        "import networkx as nx"
      ]
    },
    {
      "cell_type": "markdown",
      "metadata": {
        "id": "5DAD0jgUvqqA"
      },
      "source": [
        "## A handy function for drawing graphs: `draw_from_matrix`"
      ]
    },
    {
      "cell_type": "code",
      "execution_count": 2,
      "metadata": {
        "id": "xAwAl5n0s5fl"
      },
      "outputs": [],
      "source": [
        "def draw_from_matrix(A,draw_labels=False) :\n",
        "  G = nx.from_numpy_matrix(np.matrix(A), create_using=nx.DiGraph)\n",
        "  layout = nx.spring_layout(G,seed=0)\n",
        "  nx.draw(G, layout, node_size=750, with_labels=True, font_weight='bold', font_size=15, connectionstyle='arc3, rad = 0.1')\n",
        "  if draw_labels :\n",
        "    labels = nx.get_edge_attributes(G, \"weight\")\n",
        "    nx.draw_networkx_edge_labels(G, pos=layout, edge_labels=labels, label_pos=.33);"
      ]
    },
    {
      "cell_type": "markdown",
      "metadata": {
        "id": "DDTVqkQsvv0K"
      },
      "source": [
        "## Create an adjacency matrix to play with. Recall:\n",
        "- A is a weighted nxn adjacency matrix\n",
        "- $\\lambda_i$ is the susceptibility of node $i$\n",
        "- $\\Lambda$ is a diagonal matrix defined as ${\\rm diag}(\\lambda_1,\\lambda_2,\\dots,\\lambda_n)$"
      ]
    },
    {
      "cell_type": "code",
      "execution_count": 3,
      "metadata": {
        "colab": {
          "base_uri": "https://localhost:8080/"
        },
        "id": "NZ_pEx2_tQ9N",
        "outputId": "ed3375a6-05cb-4cdf-b77b-e177972d714c"
      },
      "outputs": [
        {
          "name": "stdout",
          "output_type": "stream",
          "text": [
            "A:\n",
            "[[0.25       0.25       0.5       ]\n",
            " [0.33333333 0.33333333 0.33333333]\n",
            " [0.11111111 0.22222222 0.66666667]]\n",
            "\n",
            "lambdas:\n",
            "[1.   1.   0.99]\n",
            "\n",
            "Lam:\n",
            "[[1.   0.   0.  ]\n",
            " [0.   1.   0.  ]\n",
            " [0.   0.   0.99]]\n"
          ]
        }
      ],
      "source": [
        "A = np.array([[.25,.25,.5],\n",
        "              [1/3,1/3,1/3],\n",
        "              [1/9,2/9,2/3]])\n",
        "onevec = np.array([[1,1,1]]).T\n",
        "lambdas = np.array([1,1,.99])\n",
        "Lam = np.diag(lambdas)\n",
        "print('A:\\n' + str(A))\n",
        "print('\\nlambdas:\\n' + str(lambdas))\n",
        "print('\\nLam:\\n' + str(Lam))"
      ]
    },
    {
      "cell_type": "code",
      "execution_count": 4,
      "metadata": {
        "colab": {
          "base_uri": "https://localhost:8080/",
          "height": 319
        },
        "id": "jEOXrlH5tECG",
        "outputId": "c50f0da6-e1c5-4bda-c0a8-8d43fe11ffb1"
      },
      "outputs": [
        {
          "data": {
            "image/png": "[encoded data removed]",
            "text/plain": [
              "<Figure size 432x288 with 1 Axes>"
            ]
          },
          "metadata": {},
          "output_type": "display_data"
        }
      ],
      "source": [
        "draw_from_matrix(A)"
      ]
    },
    {
      "cell_type": "markdown",
      "metadata": {
        "id": "uZAsYDN2uNxm"
      },
      "source": [
        "## Check that $A$ is row-stochastic by taking large matrix powers:"
      ]
    },
    {
      "cell_type": "code",
      "execution_count": 5,
      "metadata": {
        "colab": {
          "base_uri": "https://localhost:8080/"
        },
        "id": "FsAr7CLqwQeg",
        "outputId": "2b139fd4-f6c1-4f28-9e41-9855655911c9"
      },
      "outputs": [
        {
          "data": {
            "text/plain": [
              "array([[0.1951237 , 0.25609808, 0.54877822],\n",
              "       [0.19513587, 0.25610169, 0.54876244],\n",
              "       [0.19511483, 0.25609545, 0.54878972]])"
            ]
          },
          "execution_count": 5,
          "metadata": {},
          "output_type": "execute_result"
        }
      ],
      "source": [
        "A@A@A@A@A@A@A"
      ]
    },
    {
      "cell_type": "code",
      "execution_count": 6,
      "metadata": {
        "colab": {
          "base_uri": "https://localhost:8080/"
        },
        "id": "nrx1hO_wtiRs",
        "outputId": "5ccc44fc-7c73-4c28-c478-2c17ad1aed23"
      },
      "outputs": [
        {
          "data": {
            "text/plain": [
              "array([[0.19512195, 0.25609756, 0.54878049],\n",
              "       [0.19512195, 0.25609756, 0.54878049],\n",
              "       [0.19512195, 0.25609756, 0.54878049]])"
            ]
          },
          "execution_count": 6,
          "metadata": {},
          "output_type": "execute_result"
        }
      ],
      "source": [
        "linalg.matrix_power(A,100000)"
      ]
    },
    {
      "cell_type": "code",
      "execution_count": 7,
      "metadata": {
        "colab": {
          "base_uri": "https://localhost:8080/"
        },
        "id": "Cx0dfC7owaAw",
        "outputId": "35c7c295-4370-4ae3-f8bb-1d441df0a24c"
      },
      "outputs": [
        {
          "data": {
            "text/plain": [
              "array([[1.],\n",
              "       [1.],\n",
              "       [1.]])"
            ]
          },
          "execution_count": 7,
          "metadata": {},
          "output_type": "execute_result"
        }
      ],
      "source": [
        "linalg.matrix_power(A,100000)@onevec"
      ]
    },
    {
      "cell_type": "markdown",
      "metadata": {
        "id": "ExFY4DFswg0p"
      },
      "source": [
        "## On the board, we showed that \n",
        "$$x(t) = (\\Lambda A)^tx(0) + \\left[ \\sum_{i=0}^{t-1}(\\Lambda A)^i \\right] (I-\\Lambda)x(0)$$\n",
        "\n",
        "But then we showed that a couple weird facts are always true: \n",
        "- $\\lim_{t\\to\\infty}(\\Lambda A)^t = 0_{n\\times n} $  (a matrix of all 0's)\n",
        "- and that $\\left[ \\sum_{i=0}^{t-1}(\\Lambda A)^i\\right] = (I-\\Lambda A)^{-1}.$\n",
        "\n",
        "Let's verify those in code:"
      ]
    },
    {
      "cell_type": "markdown",
      "metadata": {
        "id": "Mm3V7Aw9uUXG"
      },
      "source": [
        "## Check that if you take many matrix powers of $\\Lambda A$ that it goes to 0:"
      ]
    },
    {
      "cell_type": "code",
      "execution_count": 8,
      "metadata": {
        "colab": {
          "base_uri": "https://localhost:8080/"
        },
        "id": "k6lMu56tyEbB",
        "outputId": "297ffe7f-853e-4c21-ffbb-509815bddc1b"
      },
      "outputs": [
        {
          "data": {
            "text/plain": [
              "array([[0.96281449],\n",
              "       [0.96493873],\n",
              "       [0.95120082]])"
            ]
          },
          "execution_count": 8,
          "metadata": {},
          "output_type": "execute_result"
        }
      ],
      "source": [
        "(Lam@A)@(Lam@A)@(Lam@A)@(Lam@A)@(Lam@A)@(Lam@A)@(Lam@A)@(Lam@A)@onevec"
      ]
    },
    {
      "cell_type": "code",
      "execution_count": 9,
      "metadata": {
        "colab": {
          "base_uri": "https://localhost:8080/"
        },
        "id": "QHBdEWZMtbgM",
        "outputId": "88bc0eab-84bc-42c0-9218-e67115b0ff87"
      },
      "outputs": [
        {
          "data": {
            "text/plain": [
              "array([[2.37027481e-239],\n",
              "       [2.37550441e-239],\n",
              "       [2.34168398e-239]])"
            ]
          },
          "execution_count": 9,
          "metadata": {},
          "output_type": "execute_result"
        }
      ],
      "source": [
        "linalg.matrix_power(Lam@A,100000)@onevec"
      ]
    },
    {
      "cell_type": "markdown",
      "metadata": {
        "id": "Ik9nsYqG1owg"
      },
      "source": [
        "## Want to write code to verify that $\\lim\\limits_{t\\to\\infty}\\left[ \\sum\\limits_{i=0}^{t-1} (\\Lambda A)^i \\right] = (I-\\Lambda A)^{-1}$. \n",
        "\n",
        "First, create a function which computes the series $\\lim\\limits_{t\\to\\infty}\\left[ \\sum\\limits_{i=0}^{t-1} (\\Lambda A)^i \\right]$."
      ]
    },
    {
      "cell_type": "code",
      "execution_count": 10,
      "metadata": {
        "id": "9_woAm-wt1D9"
      },
      "outputs": [],
      "source": [
        "def compute_series(Lam,A,k) :\n",
        "  n = A.shape[0] # assuming that A is nxn matrix\n",
        "  accum = np.zeros((n,n))\n",
        "  for i in range(k) :\n",
        "    accum += linalg.matrix_power(Lam@A,i)\n",
        "  return accum"
      ]
    },
    {
      "cell_type": "markdown",
      "metadata": {
        "id": "2wDoQ0F02FfZ"
      },
      "source": [
        "Then use it to compute the series:"
      ]
    },
    {
      "cell_type": "code",
      "execution_count": 11,
      "metadata": {
        "colab": {
          "base_uri": "https://localhost:8080/"
        },
        "id": "RphHkU0By-Cp",
        "outputId": "735ebe52-fbdb-44f2-f0eb-2aad2000b611"
      },
      "outputs": [
        {
          "data": {
            "text/plain": [
              "array([[ 36.8,  46.8, 100. ],\n",
              "       [ 36. ,  48. , 100. ],\n",
              "       [ 35.2,  46.2, 100. ]])"
            ]
          },
          "execution_count": 11,
          "metadata": {},
          "output_type": "execute_result"
        }
      ],
      "source": [
        "compute_series(Lam,A,10000)"
      ]
    },
    {
      "cell_type": "markdown",
      "metadata": {
        "id": "3Fyzj8Zh2KEI"
      },
      "source": [
        "Now, compute the matrix inverse. Use the function `np.eye(n)` to create an identity matrix of size `n`, and the function `la.inv()` to compute the matrix inverse directly:"
      ]
    },
    {
      "cell_type": "code",
      "execution_count": 12,
      "metadata": {
        "colab": {
          "base_uri": "https://localhost:8080/"
        },
        "id": "effbogrxzCE5",
        "outputId": "282cb315-7af4-4e6a-a96f-9d41e3da2bde"
      },
      "outputs": [
        {
          "data": {
            "text/plain": [
              "array([[ 36.8,  46.8, 100. ],\n",
              "       [ 36. ,  48. , 100. ],\n",
              "       [ 35.2,  46.2, 100. ]])"
            ]
          },
          "execution_count": 12,
          "metadata": {},
          "output_type": "execute_result"
        }
      ],
      "source": [
        "linalg.inv(np.eye(3)-Lam@A)"
      ]
    },
    {
      "cell_type": "markdown",
      "metadata": {
        "id": "Vyu09oT12Nsn"
      },
      "source": [
        "Ta-da!"
      ]
    },
    {
      "cell_type": "markdown",
      "metadata": {
        "id": "cAprvx_w2PEo"
      },
      "source": [
        "## Now, implement the whole Friedkin-Johnsen model:"
      ]
    },
    {
      "cell_type": "code",
      "execution_count": 13,
      "metadata": {
        "id": "xnxUf74nzLSH"
      },
      "outputs": [],
      "source": [
        "def friedkin_johnsen(Lam,A,x0,k,plot_result = False) :\n",
        "  n = A.shape[0] # assuming everything is dimensioned right\n",
        "  I = np.eye(n)\n",
        "  xx = np.zeros((n,k))\n",
        "  xx[:,0] = x0\n",
        "  for i in range(1,k) :\n",
        "    xx[:,i] = Lam@A@xx[:,i-1] + (I-Lam)@x0\n",
        "  if plot_result:\n",
        "    plt.plot(xx.T)\n",
        "  return xx "
      ]
    },
    {
      "cell_type": "markdown",
      "metadata": {
        "id": "JkZLCI0R2tPh"
      },
      "source": [
        "And call the function with some predefined initial opinions:"
      ]
    },
    {
      "cell_type": "code",
      "execution_count": 14,
      "metadata": {
        "colab": {
          "base_uri": "https://localhost:8080/"
        },
        "id": "8du_-fTV0go7",
        "outputId": "012d1327-295e-49ea-f7b2-df770c258739"
      },
      "outputs": [
        {
          "name": "stdout",
          "output_type": "stream",
          "text": [
            "[0.79902954 0.7990274  0.79904124]\n"
          ]
        }
      ],
      "source": [
        "x0 = np.array([0,.5,.8])\n",
        "result = friedkin_johnsen(Lam,A,x0,1000) # result is a pretty big vector, so we don't want to print it\n",
        "print(result[:,-1])  # instead, just print the last one"
      ]
    },
    {
      "cell_type": "markdown",
      "metadata": {
        "id": "nkh2yBiO2sww"
      },
      "source": [
        "We can also plot the opinions over time:"
      ]
    },
    {
      "cell_type": "code",
      "execution_count": 15,
      "metadata": {
        "colab": {
          "base_uri": "https://localhost:8080/",
          "height": 265
        },
        "id": "X9rPMaFr00Qc",
        "outputId": "05961e13-a58b-40da-b667-0e9c0fa08490"
      },
      "outputs": [
        {
          "data": {
            "image/png": "[encoded data removed]",
            "text/plain": [
              "<Figure size 432x288 with 1 Axes>"
            ]
          },
          "metadata": {
            "needs_background": "light"
          },
          "output_type": "display_data"
        }
      ],
      "source": [
        "friedkin_johnsen(Lam,A,x0,1000,plot_result=True);"
      ]
    },
    {
      "cell_type": "markdown",
      "metadata": {
        "id": "M6QW9baQ26gJ"
      },
      "source": [
        "## Make it interesting\n",
        "\n",
        "That one was super uninteresting because most of the Lambdas were very close to 1. What if lambdas are different?"
      ]
    },
    {
      "cell_type": "code",
      "execution_count": 16,
      "metadata": {
        "colab": {
          "base_uri": "https://localhost:8080/",
          "height": 265
        },
        "id": "98-753Av3W1K",
        "outputId": "7053754f-7237-4a66-ddbd-67ee65adbfab"
      },
      "outputs": [
        {
          "data": {
            "image/png": "[encoded data removed]",
            "text/plain": [
              "<Figure size 432x288 with 1 Axes>"
            ]
          },
          "metadata": {
            "needs_background": "light"
          },
          "output_type": "display_data"
        }
      ],
      "source": [
        "A2 = np.matrix([[.25,.25,.5],\n",
        "              [1/3,1/3,1/3],\n",
        "              [1/9,2/9,2/3]])\n",
        "lambdas2 = np.array([.9,.5,.3])\n",
        "Lam2 = np.diag(lambdas2)\n",
        "x02 = np.array([0,.5,.8])\n",
        "friedkin_johnsen(Lam2,A2,x02,10,plot_result=True);"
      ]
    },
    {
      "cell_type": "markdown",
      "metadata": {
        "id": "WzdKd9Kxz3Dd"
      },
      "source": [
        "## Now let's do this with a bigger, more interesting graph\n",
        "\n",
        "Famous graph model: the [Barabasi-Albert Model](https://en.wikipedia.org/wiki/Barab%C3%A1si%E2%80%93Albert_model)\n",
        "Basic idea: start with a connected graph, then go around the circle, add $m$ links from each node, connecting those links to other nodes randomly but making it more likely to connect to high-degree nodes than low-degree."
      ]
    },
    {
      "cell_type": "code",
      "execution_count": 17,
      "metadata": {
        "colab": {
          "base_uri": "https://localhost:8080/",
          "height": 319
        },
        "id": "g5TkEkSX4pcF",
        "outputId": "2ffe0222-632e-4948-a50a-56bc50a3efc4"
      },
      "outputs": [
        {
          "data": {
            "image/png": "[encoded data removed]",
            "text/plain": [
              "<Figure size 432x288 with 1 Axes>"
            ]
          },
          "metadata": {},
          "output_type": "display_data"
        }
      ],
      "source": [
        "Gba = nx.barabasi_albert_graph(20,3,seed=0)\n",
        "layout = nx.kamada_kawai_layout(Gba)\n",
        "nx.draw(Gba,pos=layout, node_size=750, with_labels=True, font_weight='bold', font_size=15,)"
      ]
    },
    {
      "cell_type": "markdown",
      "metadata": {
        "id": "vXYHqoLJ2RHM"
      },
      "source": [
        "## Now convert that graph to an adjacency matrix:"
      ]
    },
    {
      "cell_type": "code",
      "execution_count": 18,
      "metadata": {
        "colab": {
          "base_uri": "https://localhost:8080/"
        },
        "id": "abEjMAXB2Qlr",
        "outputId": "490d0863-4109-4297-e4ef-aa572d0ff6c4"
      },
      "outputs": [
        {
          "name": "stdout",
          "output_type": "stream",
          "text": [
            "[[0. 1. 1. 1. 1. 1. 1. 0. 0. 0. 1. 0. 1. 0. 0. 1. 1. 1. 1. 1.]\n",
            " [1. 0. 0. 0. 1. 1. 0. 0. 1. 0. 0. 1. 0. 0. 0. 1. 0. 0. 0. 1.]\n",
            " [1. 0. 0. 0. 1. 1. 0. 1. 1. 0. 1. 1. 0. 0. 0. 0. 0. 1. 1. 0.]\n",
            " [1. 0. 0. 0. 0. 0. 0. 0. 0. 0. 0. 0. 0. 0. 0. 0. 0. 0. 0. 0.]\n",
            " [1. 1. 1. 0. 0. 0. 1. 1. 1. 1. 1. 0. 0. 0. 0. 0. 1. 0. 0. 0.]\n",
            " [1. 1. 1. 0. 0. 0. 1. 1. 0. 1. 0. 0. 0. 1. 1. 0. 0. 0. 0. 0.]\n",
            " [1. 0. 0. 0. 1. 1. 0. 0. 0. 0. 0. 1. 1. 0. 1. 0. 0. 0. 0. 0.]\n",
            " [0. 0. 1. 0. 1. 1. 0. 0. 0. 0. 0. 0. 0. 1. 0. 0. 0. 0. 0. 1.]\n",
            " [0. 1. 1. 0. 1. 0. 0. 0. 0. 1. 0. 0. 1. 0. 1. 0. 0. 0. 0. 0.]\n",
            " [0. 0. 0. 0. 1. 1. 0. 0. 1. 0. 0. 0. 0. 1. 0. 0. 0. 0. 1. 0.]\n",
            " [1. 0. 1. 0. 1. 0. 0. 0. 0. 0. 0. 0. 0. 0. 0. 0. 0. 0. 0. 0.]\n",
            " [0. 1. 1. 0. 0. 0. 1. 0. 0. 0. 0. 0. 0. 0. 0. 0. 1. 0. 0. 0.]\n",
            " [1. 0. 0. 0. 0. 0. 1. 0. 1. 0. 0. 0. 0. 0. 0. 0. 0. 0. 0. 0.]\n",
            " [0. 0. 0. 0. 0. 1. 0. 1. 0. 1. 0. 0. 0. 0. 0. 0. 0. 1. 0. 0.]\n",
            " [0. 0. 0. 0. 0. 1. 1. 0. 1. 0. 0. 0. 0. 0. 0. 1. 0. 0. 0. 0.]\n",
            " [1. 1. 0. 0. 0. 0. 0. 0. 0. 0. 0. 0. 0. 0. 1. 0. 0. 0. 0. 0.]\n",
            " [1. 0. 0. 0. 1. 0. 0. 0. 0. 0. 0. 1. 0. 0. 0. 0. 0. 0. 0. 0.]\n",
            " [1. 0. 1. 0. 0. 0. 0. 0. 0. 0. 0. 0. 0. 1. 0. 0. 0. 0. 0. 0.]\n",
            " [1. 0. 1. 0. 0. 0. 0. 0. 0. 1. 0. 0. 0. 0. 0. 0. 0. 0. 0. 0.]\n",
            " [1. 1. 0. 0. 0. 0. 0. 1. 0. 0. 0. 0. 0. 0. 0. 0. 0. 0. 0. 0.]]\n"
          ]
        }
      ],
      "source": [
        "Aba = nx.to_numpy_array(Gba)\n",
        "print(Aba)"
      ]
    },
    {
      "cell_type": "markdown",
      "metadata": {
        "id": "v_czH4_Z3BDr"
      },
      "source": [
        "## We can't use that matrix directly, since it's not row-stochastic. We'll make it row-stochastic in a simple way, by normalizing every row to make it sum to 1.\n",
        "\n",
        "This means we need to multiply each row $i$ by a number, and we know we can do that with a diagonal matrix. What number? $1/d_i$, where $d_i$ is the degree of node $i$.\n",
        "\n",
        "First, get the degrees by right-multiplying by a column vector of 1's:"
      ]
    },
    {
      "cell_type": "code",
      "execution_count": 19,
      "metadata": {
        "colab": {
          "base_uri": "https://localhost:8080/"
        },
        "id": "HfeUOaLD2Jsr",
        "outputId": "6d70ed94-d772-4983-bef9-4ca428a90056"
      },
      "outputs": [
        {
          "name": "stdout",
          "output_type": "stream",
          "text": [
            "[[13.]\n",
            " [ 7.]\n",
            " [ 9.]\n",
            " [ 1.]\n",
            " [ 9.]\n",
            " [ 8.]\n",
            " [ 6.]\n",
            " [ 5.]\n",
            " [ 6.]\n",
            " [ 5.]\n",
            " [ 3.]\n",
            " [ 4.]\n",
            " [ 3.]\n",
            " [ 4.]\n",
            " [ 4.]\n",
            " [ 3.]\n",
            " [ 3.]\n",
            " [ 3.]\n",
            " [ 3.]\n",
            " [ 3.]]\n"
          ]
        }
      ],
      "source": [
        "Aba_degrees = Aba@np.ones((20,1))\n",
        "print(Aba_degrees)"
      ]
    },
    {
      "cell_type": "markdown",
      "metadata": {
        "id": "ytqp7Fa434kc"
      },
      "source": [
        "Next, form that vector of degrees into a diagonal matrix:"
      ]
    },
    {
      "cell_type": "code",
      "execution_count": 20,
      "metadata": {
        "colab": {
          "base_uri": "https://localhost:8080/"
        },
        "id": "qtDTPUFS3xlp",
        "outputId": "c2b7c869-2a69-4cd5-f186-6987b2567a3f"
      },
      "outputs": [
        {
          "name": "stdout",
          "output_type": "stream",
          "text": [
            "[[0.07692308 0.         0.         0.         0.         0.\n",
            "  0.         0.         0.         0.         0.         0.\n",
            "  0.         0.         0.         0.         0.         0.\n",
            "  0.         0.        ]\n",
            " [0.         0.14285714 0.         0.         0.         0.\n",
            "  0.         0.         0.         0.         0.         0.\n",
            "  0.         0.         0.         0.         0.         0.\n",
            "  0.         0.        ]\n",
            " [0.         0.         0.11111111 0.         0.         0.\n",
            "  0.         0.         0.         0.         0.         0.\n",
            "  0.         0.         0.         0.         0.         0.\n",
            "  0.         0.        ]\n",
            " [0.         0.         0.         1.         0.         0.\n",
            "  0.         0.         0.         0.         0.         0.\n",
            "  0.         0.         0.         0.         0.         0.\n",
            "  0.         0.        ]\n",
            " [0.         0.         0.         0.         0.11111111 0.\n",
            "  0.         0.         0.         0.         0.         0.\n",
            "  0.         0.         0.         0.         0.         0.\n",
            "  0.         0.        ]\n",
            " [0.         0.         0.         0.         0.         0.125\n",
            "  0.         0.         0.         0.         0.         0.\n",
            "  0.         0.         0.         0.         0.         0.\n",
            "  0.         0.        ]\n",
            " [0.         0.         0.         0.         0.         0.\n",
            "  0.16666667 0.         0.         0.         0.         0.\n",
            "  0.         0.         0.         0.         0.         0.\n",
            "  0.         0.        ]\n",
            " [0.         0.         0.         0.         0.         0.\n",
            "  0.         0.2        0.         0.         0.         0.\n",
            "  0.         0.         0.         0.         0.         0.\n",
            "  0.         0.        ]\n",
            " [0.         0.         0.         0.         0.         0.\n",
            "  0.         0.         0.16666667 0.         0.         0.\n",
            "  0.         0.         0.         0.         0.         0.\n",
            "  0.         0.        ]\n",
            " [0.         0.         0.         0.         0.         0.\n",
            "  0.         0.         0.         0.2        0.         0.\n",
            "  0.         0.         0.         0.         0.         0.\n",
            "  0.         0.        ]\n",
            " [0.         0.         0.         0.         0.         0.\n",
            "  0.         0.         0.         0.         0.33333333 0.\n",
            "  0.         0.         0.         0.         0.         0.\n",
            "  0.         0.        ]\n",
            " [0.         0.         0.         0.         0.         0.\n",
            "  0.         0.         0.         0.         0.         0.25\n",
            "  0.         0.         0.         0.         0.         0.\n",
            "  0.         0.        ]\n",
            " [0.         0.         0.         0.         0.         0.\n",
            "  0.         0.         0.         0.         0.         0.\n",
            "  0.33333333 0.         0.         0.         0.         0.\n",
            "  0.         0.        ]\n",
            " [0.         0.         0.         0.         0.         0.\n",
            "  0.         0.         0.         0.         0.         0.\n",
            "  0.         0.25       0.         0.         0.         0.\n",
            "  0.         0.        ]\n",
            " [0.         0.         0.         0.         0.         0.\n",
            "  0.         0.         0.         0.         0.         0.\n",
            "  0.         0.         0.25       0.         0.         0.\n",
            "  0.         0.        ]\n",
            " [0.         0.         0.         0.         0.         0.\n",
            "  0.         0.         0.         0.         0.         0.\n",
            "  0.         0.         0.         0.33333333 0.         0.\n",
            "  0.         0.        ]\n",
            " [0.         0.         0.         0.         0.         0.\n",
            "  0.         0.         0.         0.         0.         0.\n",
            "  0.         0.         0.         0.         0.33333333 0.\n",
            "  0.         0.        ]\n",
            " [0.         0.         0.         0.         0.         0.\n",
            "  0.         0.         0.         0.         0.         0.\n",
            "  0.         0.         0.         0.         0.         0.33333333\n",
            "  0.         0.        ]\n",
            " [0.         0.         0.         0.         0.         0.\n",
            "  0.         0.         0.         0.         0.         0.\n",
            "  0.         0.         0.         0.         0.         0.\n",
            "  0.33333333 0.        ]\n",
            " [0.         0.         0.         0.         0.         0.\n",
            "  0.         0.         0.         0.         0.         0.\n",
            "  0.         0.         0.         0.         0.         0.\n",
            "  0.         0.33333333]]\n"
          ]
        }
      ],
      "source": [
        "Aba_degrees_diag = np.diag(1/Aba_degrees[:,0])\n",
        "print(Aba_degrees_diag)"
      ]
    },
    {
      "cell_type": "markdown",
      "metadata": {
        "id": "hfxhqewU5Ilm"
      },
      "source": [
        "Finally, multiply the new diagonal matrix onto $A$:"
      ]
    },
    {
      "cell_type": "code",
      "execution_count": 21,
      "metadata": {
        "id": "vqX5Renm4KCM"
      },
      "outputs": [],
      "source": [
        "Aba_row_stochastic = Aba_degrees_diag@Aba"
      ]
    },
    {
      "cell_type": "markdown",
      "metadata": {
        "id": "ubCyk16Y5ZZF"
      },
      "source": [
        "How do we verify that the new matrix is actually row stochastic? We sum the rows by multiplying by a vector of 1's:"
      ]
    },
    {
      "cell_type": "code",
      "execution_count": 22,
      "metadata": {
        "colab": {
          "base_uri": "https://localhost:8080/"
        },
        "id": "98t6aY_t4buc",
        "outputId": "5988ab3f-6550-4575-efa9-52c3f2043925"
      },
      "outputs": [
        {
          "data": {
            "text/plain": [
              "array([[1.],\n",
              "       [1.],\n",
              "       [1.],\n",
              "       [1.],\n",
              "       [1.],\n",
              "       [1.],\n",
              "       [1.],\n",
              "       [1.],\n",
              "       [1.],\n",
              "       [1.],\n",
              "       [1.],\n",
              "       [1.],\n",
              "       [1.],\n",
              "       [1.],\n",
              "       [1.],\n",
              "       [1.],\n",
              "       [1.],\n",
              "       [1.],\n",
              "       [1.],\n",
              "       [1.]])"
            ]
          },
          "execution_count": 22,
          "metadata": {},
          "output_type": "execute_result"
        }
      ],
      "source": [
        "Aba_row_stochastic @ np.ones((20,1))"
      ]
    },
    {
      "cell_type": "markdown",
      "metadata": {
        "id": "4FUrdYl_6E_f"
      },
      "source": [
        "## Now use this new row-stochastic matrix to define a Friedkin-Johnsen model!\n",
        "\n",
        "First need some lambdas and initial opinions. let's choose lambdas randomly:"
      ]
    },
    {
      "cell_type": "code",
      "execution_count": 23,
      "metadata": {
        "id": "QKT-LPE45hx8"
      },
      "outputs": [],
      "source": [
        "rnd.seed(0) # do this so we get the same \"random\" result every time! If you want a different result, change the 0 to something else\n",
        "lambdas_ba = rnd.rand(20)\n",
        "Lam_ba = np.diag(lambdas_ba)"
      ]
    },
    {
      "cell_type": "markdown",
      "metadata": {
        "id": "VOQ9lser6zYO"
      },
      "source": [
        "Now, initial opinions. For fun, let's give nodes 0 and 1 (highly connected) an opinion of 1, and everybody else an opinion of 0:"
      ]
    },
    {
      "cell_type": "code",
      "execution_count": 24,
      "metadata": {
        "id": "wFrcWNFW6BSc"
      },
      "outputs": [],
      "source": [
        "starting_list = [1]*2 + [0]*18\n",
        "x0_ba = np.array(starting_list)"
      ]
    },
    {
      "cell_type": "markdown",
      "metadata": {
        "id": "aw4BwMnO7Mbm"
      },
      "source": [
        "Now let's do this! Run the model and generate the plot:"
      ]
    },
    {
      "cell_type": "code",
      "execution_count": 25,
      "metadata": {
        "colab": {
          "base_uri": "https://localhost:8080/",
          "height": 265
        },
        "id": "F-K-T_BH7Kmt",
        "outputId": "f178d48d-d13e-4e90-bde4-dd9bbcf00e70"
      },
      "outputs": [
        {
          "data": {
            "image/png": "[encoded data removed]",
            "text/plain": [
              "<Figure size 432x288 with 1 Axes>"
            ]
          },
          "metadata": {
            "needs_background": "light"
          },
          "output_type": "display_data"
        }
      ],
      "source": [
        "result = friedkin_johnsen(Lam_ba,Aba_row_stochastic,x0_ba,10,plot_result=True)"
      ]
    },
    {
      "cell_type": "code",
      "execution_count": null,
      "metadata": {
        "id": "Qpae8HuF7XP9"
      },
      "outputs": [],
      "source": []
    }
  ],
  "metadata": {
    "colab": {
      "collapsed_sections": [
        "5DAD0jgUvqqA"
      ],
      "name": "Friedkin-Johnsen Notebook.ipynb",
      "provenance": []
    },
    "kernelspec": {
      "display_name": "Python 3",
      "name": "python3"
    },
    "language_info": {
      "codemirror_mode": {
        "name": "ipython",
        "version": 3
      },
      "file_extension": ".py",
      "mimetype": "text/x-python",
      "name": "python",
      "nbconvert_exporter": "python",
      "pygments_lexer": "ipython3",
      "version": "3.10.2"
    }
  },
  "nbformat": 4,
  "nbformat_minor": 0
}
