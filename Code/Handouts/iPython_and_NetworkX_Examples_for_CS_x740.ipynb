{
  "nbformat": 4,
  "nbformat_minor": 0,
  "metadata": {
    "colab": {
      "name": "iPython and NetworkX Examples for CS x740",
      "provenance": []
    },
    "kernelspec": {
      "name": "python3",
      "display_name": "Python 3"
    },
    "language_info": {
      "name": "python"
    }
  },
  "cells": [
    {
      "cell_type": "markdown",
      "source": [
        "# This is a Markdown Cell\n",
        "\n",
        "You can write in markdown just like you might to make a readme on Github. *here is italicized text*, **here is bold text,** and `here is fixed-width text.` \n",
        "\n",
        "You can also typeset math directly in Markdown cells using LaTeX: $a+b+c=d^e$.\n",
        "\n",
        "Or if you prefer the math nicely centered, you can do \n",
        "\n",
        "$$\\sum_{i=1}^n v_i$$"
      ],
      "metadata": {
        "id": "0W-hUlKpVfm_"
      }
    },
    {
      "cell_type": "code",
      "execution_count": null,
      "metadata": {
        "id": "wtcbOQlvT42e"
      },
      "outputs": [],
      "source": [
        "import networkx as nx\n",
        "import numpy as np\n",
        "import matplotlib.pyplot as plt"
      ]
    },
    {
      "cell_type": "markdown",
      "source": [
        "## How to use Jupyter Notebooks\n",
        "\n",
        "There are 2 kinds of cells; code and markdown. \n",
        "* To \"execute\" a cell (to run it through its respective interpreter), highlight the cell and type `shift-enter`. \n",
        "* To edit a Markdown cell, double-click.\n",
        "* To edit a code cell, just click and start typing. A naked `enter` just gives you a new line; remember that to execute you need to type `shift-enter`."
      ],
      "metadata": {
        "id": "1AY7gcaIZoZd"
      }
    },
    {
      "cell_type": "code",
      "source": [
        "foo = 10"
      ],
      "metadata": {
        "id": "9mH41YYWZsSz"
      },
      "execution_count": null,
      "outputs": []
    },
    {
      "cell_type": "code",
      "source": [
        "foo"
      ],
      "metadata": {
        "id": "S_9-oof8aRTM"
      },
      "execution_count": null,
      "outputs": []
    },
    {
      "cell_type": "code",
      "source": [
        "foo += 1"
      ],
      "metadata": {
        "id": "Zi4U_7RhaTqc"
      },
      "execution_count": null,
      "outputs": []
    },
    {
      "cell_type": "markdown",
      "source": [
        "## This tutorial is adapted from the documentation you can find at https://networkx.org/documentation/stable/tutorial.html\n",
        "\n",
        "Also, see many neat examples in the NetworkX gallery: https://networkx.org/documentation/stable/auto_examples/index.html\n",
        "\n",
        "Instantiate an empty graph object like so:"
      ],
      "metadata": {
        "id": "G1ubjAQyYG9V"
      }
    },
    {
      "cell_type": "code",
      "source": [
        "G = nx.Graph()"
      ],
      "metadata": {
        "id": "1b6oNUqqT7Sc"
      },
      "execution_count": null,
      "outputs": []
    },
    {
      "cell_type": "markdown",
      "source": [
        "You can add a single node at a time:"
      ],
      "metadata": {
        "id": "StTZeiiVYaPs"
      }
    },
    {
      "cell_type": "code",
      "source": [
        "G.add_node('a')"
      ],
      "metadata": {
        "id": "Yhigw_VXWj1t"
      },
      "execution_count": null,
      "outputs": []
    },
    {
      "cell_type": "markdown",
      "source": [
        "Or many nodes at once with the method `add_nodes_from`"
      ],
      "metadata": {
        "id": "pUpymc5GYcTM"
      }
    },
    {
      "cell_type": "code",
      "source": [
        "G.add_nodes_from([1,2,3,4]) # the argument here is an iterable"
      ],
      "metadata": {
        "id": "m7JORo2ZWKfu"
      },
      "execution_count": null,
      "outputs": []
    },
    {
      "cell_type": "markdown",
      "source": [
        "But so far we have no edges! You can add edges in the same way as nodes:"
      ],
      "metadata": {
        "id": "XnA8qVpRYxGE"
      }
    },
    {
      "cell_type": "code",
      "source": [
        "G.add_edge(1,2)\n",
        "G.add_edges_from([(2,3),(3,'a')])\n",
        "G.add_edges_from([(4,1),(4,3)])"
      ],
      "metadata": {
        "id": "5zF401d6Y38c"
      },
      "execution_count": null,
      "outputs": []
    },
    {
      "cell_type": "markdown",
      "source": [
        "Now we can ask for some things:"
      ],
      "metadata": {
        "id": "-wezdl0GZN0t"
      }
    },
    {
      "cell_type": "code",
      "source": [
        "G.number_of_nodes()"
      ],
      "metadata": {
        "id": "lHnuPDTsZgcD"
      },
      "execution_count": null,
      "outputs": []
    },
    {
      "cell_type": "code",
      "source": [
        "G.nodes()"
      ],
      "metadata": {
        "id": "ol-VWtk2bLgm"
      },
      "execution_count": null,
      "outputs": []
    },
    {
      "cell_type": "code",
      "source": [
        "list(G.nodes())"
      ],
      "metadata": {
        "id": "t5bumCTVbQpE"
      },
      "execution_count": null,
      "outputs": []
    },
    {
      "cell_type": "code",
      "source": [
        "list(G.edges())"
      ],
      "metadata": {
        "id": "SEHQRfs4bTDD"
      },
      "execution_count": null,
      "outputs": []
    },
    {
      "cell_type": "code",
      "source": [
        "G.number_of_edges()"
      ],
      "metadata": {
        "id": "GCBUAOTiZk-c"
      },
      "execution_count": null,
      "outputs": []
    },
    {
      "cell_type": "markdown",
      "source": [
        "You can also ask for specific properties of individual nodes. the `neighbors(i)` function tells you the neighbors of node `i`:"
      ],
      "metadata": {
        "id": "A6eqF90fbYmv"
      }
    },
    {
      "cell_type": "code",
      "source": [
        "list(G.neighbors(1))"
      ],
      "metadata": {
        "id": "xHZwsFmnbYL6"
      },
      "execution_count": null,
      "outputs": []
    },
    {
      "cell_type": "code",
      "source": [
        "nx.draw(G, with_labels=True)"
      ],
      "metadata": {
        "id": "npTreZdHWRdN"
      },
      "execution_count": null,
      "outputs": []
    },
    {
      "cell_type": "markdown",
      "source": [
        "There are also many built-in graph algorithms for you to use: https://networkx.org/documentation/stable/reference/algorithms/index.html"
      ],
      "metadata": {
        "id": "nZrBAoTwex-7"
      }
    },
    {
      "cell_type": "code",
      "source": [
        "nx.diameter(G)"
      ],
      "metadata": {
        "id": "3fFjyE2jWR2c"
      },
      "execution_count": null,
      "outputs": []
    },
    {
      "cell_type": "code",
      "source": [
        "nx.is_connected(G)"
      ],
      "metadata": {
        "id": "A_Qz5Ifmesy5"
      },
      "execution_count": null,
      "outputs": []
    },
    {
      "cell_type": "markdown",
      "source": [
        "It has built-in methods for computing shortest paths. Here, let's ask for all the shortest paths from node 3 and store them in a `dict` (dictionary) object called `sp`:"
      ],
      "metadata": {
        "id": "HXbp0K4ugpmh"
      }
    },
    {
      "cell_type": "code",
      "source": [
        "sp = nx.shortest_path(G)"
      ],
      "metadata": {
        "id": "0LS2s1GjfupK"
      },
      "execution_count": null,
      "outputs": []
    },
    {
      "cell_type": "markdown",
      "source": [
        "To get all the shortest paths emanating from node 1, just run"
      ],
      "metadata": {
        "id": "KbTWEl37hZIZ"
      }
    },
    {
      "cell_type": "code",
      "source": [
        "sp[1]"
      ],
      "metadata": {
        "id": "j0bGwNGuhfB_"
      },
      "execution_count": null,
      "outputs": []
    },
    {
      "cell_type": "markdown",
      "source": [
        "To get a specific shortest path (say from 1 to `'a'`):"
      ],
      "metadata": {
        "id": "iiFyQV9mhhBZ"
      }
    },
    {
      "cell_type": "code",
      "source": [
        "sp[1]['a']"
      ],
      "metadata": {
        "id": "1c8Vwi1QgChH"
      },
      "execution_count": null,
      "outputs": []
    },
    {
      "cell_type": "code",
      "source": [
        ""
      ],
      "metadata": {
        "id": "DurcDNiWhKW4"
      },
      "execution_count": null,
      "outputs": []
    }
  ]
}