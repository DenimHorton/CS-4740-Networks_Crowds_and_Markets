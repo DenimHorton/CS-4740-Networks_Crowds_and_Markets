{
 "cells": [
  {
   "cell_type": "code",
   "execution_count": 1,
   "metadata": {},
   "outputs": [],
   "source": [
    "import numpy as np\n",
    "import matplotlib as plt"
   ]
  },
  {
   "cell_type": "code",
   "execution_count": 2,
   "metadata": {},
   "outputs": [
    {
     "name": "stdout",
     "output_type": "stream",
     "text": [
      "Matrix A:\n",
      " [[0.8  0.   0.   0.05 0.15]\n",
      " [1.   0.   0.   0.   0.  ]\n",
      " [0.3  0.2  0.5  0.   0.  ]\n",
      " [0.   0.   0.05 0.95 0.  ]\n",
      " [0.   0.   0.   0.2  0.8 ]]\n"
     ]
    }
   ],
   "source": [
    "\n",
    "# Question 3\n",
    "##############################################################################################\n",
    "# Part (a)\n",
    "\n",
    "matrixA = np.array([[0.8, 0.0, 0.0, 0.05, 0.15],\n",
    "                   [1.0, 0.0, 0.0, 0.0, 0.0],\n",
    "                   [0.3, 0.2, 0.5, 0.0, 0.0],\n",
    "                   [0.0, 0.0, 0.05, 0.95, 0.0],\n",
    "                   [0.0, 0.0, 0.0, 0.2, 0.8]])\n",
    "\n",
    "# Print matrix to make sure its been intialzed correctly.\n",
    "print(\"Matrix A:\\n\",matrixA)\n",
    "\n",
    "# Check that each rows coumn values add up to one.\n",
    "for row in matrixA:\n",
    "    sum_acum = 0\n",
    "    for col in row:\n",
    "        sum_acum += col\n",
    "    if sum_acum  == 1:\n",
    "        # print(\"Stochastic!\")\n",
    "        continue\n",
    "    else:\n",
    "        print(f\"Not stocahstic at with this {row}\")\n",
    "        break"
   ]
  },
  {
   "cell_type": "code",
   "execution_count": 3,
   "metadata": {},
   "outputs": [
    {
     "name": "stdout",
     "output_type": "stream",
     "text": [
      "Opnion Matrix:\n",
      " [[1. ]\n",
      " [1. ]\n",
      " [0.5]\n",
      " [0. ]\n",
      " [0. ]]\n",
      "Matrix Mulitplication Output:\n",
      " [[0.8  ]\n",
      " [1.   ]\n",
      " [0.75 ]\n",
      " [0.025]\n",
      " [0.   ]]\n"
     ]
    }
   ],
   "source": [
    "# Question 3\n",
    "##############################################################################################\n",
    "# Part (b)\n",
    "\n",
    "# Intialize opnion vector\n",
    "opnionVector = np.array([[1], [1], [0.5], [0], [0]])\n",
    "\n",
    "# Verify initialized opnion matrix \n",
    "print(\"Opnion Matrix:\\n\", opnionVector)\n",
    "\n",
    "# Perform matrix multiplication\n",
    "matrixProduct = matrixA @ opnionVector\n",
    "\n",
    "# Print to verify matrix mutliplication was done correctly by hand\n",
    "print(\"Matrix Mulitplication Output:\\n\", matrixProduct)"
   ]
  },
  {
   "cell_type": "code",
   "execution_count": 4,
   "metadata": {},
   "outputs": [
    {
     "name": "stdout",
     "output_type": "stream",
     "text": [
      "Matrix as 't' Approaches Inifinity:\n",
      " [[0.16051364 0.01284109 0.06420546 0.64205457 0.12038523]\n",
      " [0.16051364 0.01284109 0.06420546 0.64205457 0.12038523]\n",
      " [0.16051364 0.01284109 0.06420546 0.64205457 0.12038523]\n",
      " [0.16051364 0.01284109 0.06420546 0.64205457 0.12038523]\n",
      " [0.16051364 0.01284109 0.06420546 0.64205457 0.12038523]]\n"
     ]
    }
   ],
   "source": [
    "# Question 3\n",
    "##############################################################################################\n",
    "# Part (c)\n",
    "# Perfrom matrix multiplication to show how values converge. \n",
    "print(\"Matrix as \\'t\\' Approaches Inifinity:\\n\", np.linalg.matrix_power(matrixA,100000))"
   ]
  },
  {
   "cell_type": "code",
   "execution_count": 8,
   "metadata": {},
   "outputs": [
    {
     "name": "stdout",
     "output_type": "stream",
     "text": [
      "Lambda Diag Matrix:\n",
      "[[0.9 0.  0.  0. ]\n",
      " [0.  0.1 0.  0. ]\n",
      " [0.  0.  0.9 0. ]\n",
      " [0.  0.  0.  0.1]]\n",
      "Adjacenty Matrix:\n",
      "[[0.25  0.5   0.    0.025]\n",
      " [0.3   0.3   0.3   0.   ]\n",
      " [0.    0.    0.1   0.   ]\n",
      " [0.    0.25  0.    0.75 ]]\n",
      "Lambda Diag Matrix @ Adjacenty Matrix = \n",
      "[[0.225  0.45   0.     0.0225]\n",
      " [0.03   0.03   0.03   0.    ]\n",
      " [0.     0.     0.09   0.    ]\n",
      " [0.     0.025  0.     0.075 ]]\n",
      "Last opnion vector:\n",
      "[0.9 0.1 0.9 0.1]\n",
      "Lambda Diag Matrix @ Adjacenty Matrix @ Last opnion vector =\n",
      "[0.24975 0.057   0.081   0.01   ]\n",
      "Identity Matrix: \n",
      "[[1. 0. 0. 0.]\n",
      " [0. 1. 0. 0.]\n",
      " [0. 0. 1. 0.]\n",
      " [0. 0. 0. 1.]]\n",
      "Invers of Lam:\n",
      "[[0.1 0.  0.  0. ]\n",
      " [0.  0.9 0.  0. ]\n",
      " [0.  0.  0.1 0. ]\n",
      " [0.  0.  0.  0.9]]\n",
      "Initial Opnion:\n",
      "[0.9 0.1 0.9 0.1]\n",
      "(I - Lam)@x0 = [0.09 0.09 0.09 0.09]\n",
      "Finally we take the sum of [0.24975 0.057   0.081   0.01   ] + [0.09 0.09 0.09 0.09] = \n",
      "[0.33975 0.147   0.171   0.1    ]\n",
      "Executing first step of Friedkin-Johnson model:\n",
      " [[0.9     0.33975]\n",
      " [0.1     0.147  ]\n",
      " [0.9     0.171  ]\n",
      " [0.1     0.1    ]]\n"
     ]
    }
   ],
   "source": [
    "# Question 4\n",
    "##############################################################################################\n",
    "# Part (a)\n",
    "\n",
    "# This represnt the first part of the equations which is the sumation of elements in the matrix \n",
    "# from the beging step to the range of t specified steps.\n",
    "def compute_series(Lam, A, t):\n",
    "    n = A.shape[0]\n",
    "    accum = np.zeros(n, n)\n",
    "    for i in range(t):\n",
    "        accum += np.linalg.matrix_power(Lam@A, i)\n",
    "    return accum\n",
    "\n",
    "def friedkin_johnson(Lam, A, x0, t, plot_result = False):\n",
    "    n = A.shape[0] # assuming everything is dimensioned right\n",
    "    I = np.eye(n)\n",
    "    xx = np.zeros((n,t))\n",
    "    xx[:,0] = x0\n",
    "    for i in range(1,t) :\n",
    "      print(F\"Lambda Diag Matrix:\\n{Lam}\")\n",
    "      print(f\"Adjacenty Matrix:\\n{A}\")\n",
    "      print(f\"Lambda Diag Matrix @ Adjacenty Matrix = \\n{Lam@A}\")\n",
    "      print(f\"Last opnion vector:\\n{xx[:,i-1]}\")\n",
    "      print(f\"Lambda Diag Matrix @ Adjacenty Matrix @ Last opnion vector =\\n{Lam@A@xx[:,i-1]}\")\n",
    "      print(f\"Identity Matrix: \\n{I}\")\n",
    "      print(f\"Invers of Lam:\\n{I - Lam}\")\n",
    "      print(f\"Initial Opnion:\\n{x0}\")\n",
    "      print(f\"(I - Lam)@x0 = {(I-Lam)@x0}\")\n",
    "      print(f\"Finally we take the sum of { Lam@A@xx[:,i-1]} + {(I-Lam)@x0} = \\n{Lam@A@xx[:,i-1] + (I-Lam)@x0}\")\n",
    "      xx[:,i] = Lam@A@xx[:,i-1] + (I-Lam)@x0\n",
    "    if plot_result:\n",
    "      plt.plot(xx.T)\n",
    "    return xx \n",
    "\n",
    "# Create power constant for simulation runs\n",
    "k = 1\n",
    "\n",
    "# Initalize matrix from question 2\n",
    "matrixB = np.array([[0.25, 0.5, 0.0, 0.025],\n",
    "                    [0.3, 0.3, 0.3,  0],\n",
    "                    [0.0, 0.0, 0.1, 0.0],\n",
    "                    [0.0, 0.25, 0, 0.75]])\n",
    "\n",
    "# Initialize given lambda values for the question\n",
    "lambdas = [0.9, 0.1, 0.9, 0.1] \n",
    "\n",
    "# Initialize given original opnions\n",
    "opnionVectorB = np.array([0.9, 0.1, 0.9, 0.1])\n",
    " \n",
    "# Get the diagnoal matrix of lambda values \n",
    "matrixDiag = np.diag(lambdas)\n",
    "\n",
    "# print(f\"{matrixDiag} .{matrixB} = {matrixDiag @ matrixB}\")\n",
    "# print(matrixDiag @ matrixB )\n",
    "\n",
    "# print(\"Matrix of diagonal lambda values:\")\n",
    "# print(matrixDiag)\n",
    "\n",
    "# print(matrixB@matrixDiag)\n",
    "# # Show that our valeus will quickly converge and envetually get very close to 0, but not quite\n",
    "# # python ends up rounding to 0 after so long due to not being able to retain decmials values.\n",
    "# print(f\"Matrixed rasied to the \\'k-th\\' ({k}):\")\n",
    "# print(np.linalg.matrix_power(matrixB@matrixDiag, k))\n",
    "\n",
    "# Now using method created above we perform the first of the Freidken Johnson modle\n",
    "print(\"Executing first step of Friedkin-Johnson model:\\n\", friedkin_johnson(matrixDiag, matrixB, opnionVectorB, 2))"
   ]
  },
  {
   "cell_type": "code",
   "execution_count": null,
   "metadata": {},
   "outputs": [],
   "source": [
    "# Question 4\n",
    "##############################################################################################\n",
    "# Part (b)\n",
    "\n",
    "# Q: Where do we find values that are the most different opnions when passed different susbtibaliity \n",
    "#    values we call lambda."
   ]
  }
 ],
 "metadata": {
  "interpreter": {
   "hash": "02a90d5b7872c669e2a7da29eee288440c7e1db5be4a9e81e871fbe358b9d90f"
  },
  "kernelspec": {
   "display_name": "Python 3.10.2 64-bit",
   "language": "python",
   "name": "python3"
  },
  "language_info": {
   "codemirror_mode": {
    "name": "ipython",
    "version": 3
   },
   "file_extension": ".py",
   "mimetype": "text/x-python",
   "name": "python",
   "nbconvert_exporter": "python",
   "pygments_lexer": "ipython3",
   "version": "3.10.2"
  },
  "orig_nbformat": 4
 },
 "nbformat": 4,
 "nbformat_minor": 2
}
